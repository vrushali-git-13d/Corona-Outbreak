{
 "cells": [
  {
   "cell_type": "code",
   "execution_count": 4,
   "metadata": {},
   "outputs": [],
   "source": [
    "# Libraries used \n",
    "import numpy as np\n",
    "import pandas as pd\n",
    "import matplotlib.pyplot as plt\n",
    "import seaborn as sb\n",
    "import datetime as dt\n",
    "from sklearn.model_selection import train_test_split\n",
    "from sklearn.metrics import mean_squared_error"
   ]
  },
  {
   "cell_type": "code",
   "execution_count": 5,
   "metadata": {},
   "outputs": [],
   "source": [
    "# Importing the dataset\n",
    "df = pd.read_csv(\"/Users/thinkwalnut/Desktop/vrushali/datasets/covid cases.csv\", parse_dates=['Date'], dayfirst=True)"
   ]
  },
  {
   "cell_type": "code",
   "execution_count": 6,
   "metadata": {},
   "outputs": [
    {
     "data": {
      "text/html": [
       "<div>\n",
       "<style scoped>\n",
       "    .dataframe tbody tr th:only-of-type {\n",
       "        vertical-align: middle;\n",
       "    }\n",
       "\n",
       "    .dataframe tbody tr th {\n",
       "        vertical-align: top;\n",
       "    }\n",
       "\n",
       "    .dataframe thead th {\n",
       "        text-align: right;\n",
       "    }\n",
       "</style>\n",
       "<table border=\"1\" class=\"dataframe\">\n",
       "  <thead>\n",
       "    <tr style=\"text-align: right;\">\n",
       "      <th></th>\n",
       "      <th>Date</th>\n",
       "      <th>Country</th>\n",
       "      <th>Confirmed</th>\n",
       "      <th>Recovered</th>\n",
       "      <th>Deaths</th>\n",
       "    </tr>\n",
       "  </thead>\n",
       "  <tbody>\n",
       "    <tr>\n",
       "      <th>0</th>\n",
       "      <td>2020-01-22</td>\n",
       "      <td>Afghanistan</td>\n",
       "      <td>0</td>\n",
       "      <td>0</td>\n",
       "      <td>0</td>\n",
       "    </tr>\n",
       "    <tr>\n",
       "      <th>1</th>\n",
       "      <td>2020-01-23</td>\n",
       "      <td>Afghanistan</td>\n",
       "      <td>0</td>\n",
       "      <td>0</td>\n",
       "      <td>0</td>\n",
       "    </tr>\n",
       "    <tr>\n",
       "      <th>2</th>\n",
       "      <td>2020-01-24</td>\n",
       "      <td>Afghanistan</td>\n",
       "      <td>0</td>\n",
       "      <td>0</td>\n",
       "      <td>0</td>\n",
       "    </tr>\n",
       "    <tr>\n",
       "      <th>3</th>\n",
       "      <td>2020-01-25</td>\n",
       "      <td>Afghanistan</td>\n",
       "      <td>0</td>\n",
       "      <td>0</td>\n",
       "      <td>0</td>\n",
       "    </tr>\n",
       "    <tr>\n",
       "      <th>4</th>\n",
       "      <td>2020-01-26</td>\n",
       "      <td>Afghanistan</td>\n",
       "      <td>0</td>\n",
       "      <td>0</td>\n",
       "      <td>0</td>\n",
       "    </tr>\n",
       "  </tbody>\n",
       "</table>\n",
       "</div>"
      ],
      "text/plain": [
       "        Date      Country  Confirmed  Recovered  Deaths\n",
       "0 2020-01-22  Afghanistan          0          0       0\n",
       "1 2020-01-23  Afghanistan          0          0       0\n",
       "2 2020-01-24  Afghanistan          0          0       0\n",
       "3 2020-01-25  Afghanistan          0          0       0\n",
       "4 2020-01-26  Afghanistan          0          0       0"
      ]
     },
     "execution_count": 6,
     "metadata": {},
     "output_type": "execute_result"
    }
   ],
   "source": [
    "df.head()"
   ]
  },
  {
   "cell_type": "code",
   "execution_count": 7,
   "metadata": {},
   "outputs": [
    {
     "data": {
      "text/html": [
       "<div>\n",
       "<style scoped>\n",
       "    .dataframe tbody tr th:only-of-type {\n",
       "        vertical-align: middle;\n",
       "    }\n",
       "\n",
       "    .dataframe tbody tr th {\n",
       "        vertical-align: top;\n",
       "    }\n",
       "\n",
       "    .dataframe thead th {\n",
       "        text-align: right;\n",
       "    }\n",
       "</style>\n",
       "<table border=\"1\" class=\"dataframe\">\n",
       "  <thead>\n",
       "    <tr style=\"text-align: right;\">\n",
       "      <th></th>\n",
       "      <th>Date</th>\n",
       "      <th>Country</th>\n",
       "      <th>Confirmed</th>\n",
       "      <th>Recovered</th>\n",
       "      <th>Deaths</th>\n",
       "    </tr>\n",
       "  </thead>\n",
       "  <tbody>\n",
       "    <tr>\n",
       "      <th>87739</th>\n",
       "      <td>2021-04-18</td>\n",
       "      <td>Zimbabwe</td>\n",
       "      <td>37751</td>\n",
       "      <td>35019</td>\n",
       "      <td>1553</td>\n",
       "    </tr>\n",
       "    <tr>\n",
       "      <th>87740</th>\n",
       "      <td>2021-04-19</td>\n",
       "      <td>Zimbabwe</td>\n",
       "      <td>37859</td>\n",
       "      <td>35031</td>\n",
       "      <td>1553</td>\n",
       "    </tr>\n",
       "    <tr>\n",
       "      <th>87741</th>\n",
       "      <td>2021-04-20</td>\n",
       "      <td>Zimbabwe</td>\n",
       "      <td>37875</td>\n",
       "      <td>35058</td>\n",
       "      <td>1554</td>\n",
       "    </tr>\n",
       "    <tr>\n",
       "      <th>87742</th>\n",
       "      <td>2021-04-21</td>\n",
       "      <td>Zimbabwe</td>\n",
       "      <td>37980</td>\n",
       "      <td>35065</td>\n",
       "      <td>1555</td>\n",
       "    </tr>\n",
       "    <tr>\n",
       "      <th>87743</th>\n",
       "      <td>2021-04-22</td>\n",
       "      <td>Zimbabwe</td>\n",
       "      <td>38018</td>\n",
       "      <td>35073</td>\n",
       "      <td>1555</td>\n",
       "    </tr>\n",
       "  </tbody>\n",
       "</table>\n",
       "</div>"
      ],
      "text/plain": [
       "            Date   Country  Confirmed  Recovered  Deaths\n",
       "87739 2021-04-18  Zimbabwe      37751      35019    1553\n",
       "87740 2021-04-19  Zimbabwe      37859      35031    1553\n",
       "87741 2021-04-20  Zimbabwe      37875      35058    1554\n",
       "87742 2021-04-21  Zimbabwe      37980      35065    1555\n",
       "87743 2021-04-22  Zimbabwe      38018      35073    1555"
      ]
     },
     "execution_count": 7,
     "metadata": {},
     "output_type": "execute_result"
    }
   ],
   "source": [
    "df.tail()"
   ]
  },
  {
   "cell_type": "code",
   "execution_count": 8,
   "metadata": {},
   "outputs": [
    {
     "data": {
      "text/plain": [
       "(87744, 5)"
      ]
     },
     "execution_count": 8,
     "metadata": {},
     "output_type": "execute_result"
    }
   ],
   "source": [
    "df.shape"
   ]
  },
  {
   "cell_type": "code",
   "execution_count": 9,
   "metadata": {},
   "outputs": [
    {
     "name": "stdout",
     "output_type": "stream",
     "text": [
      "            Date             Country  Confirmed  Recovered  Deaths\n",
      "456   2021-04-22         Afghanistan      58312      52348    2561\n",
      "913   2021-04-22             Albania     130114     103582    2364\n",
      "1370  2021-04-22             Algeria     120363      83900    3181\n",
      "1827  2021-04-22             Andorra      12942      12375     123\n",
      "2284  2021-04-22              Angola      25051      22901     572\n",
      "...          ...                 ...        ...        ...     ...\n",
      "85915 2021-04-22             Vietnam       2824       2490      35\n",
      "86372 2021-04-22  West Bank and Gaza     287680     256559    3115\n",
      "86829 2021-04-22               Yemen       6020       2393    1157\n",
      "87286 2021-04-22              Zambia      91189      89117    1240\n",
      "87743 2021-04-22            Zimbabwe      38018      35073    1555\n",
      "\n",
      "[192 rows x 5 columns]\n"
     ]
    }
   ],
   "source": [
    "# Current Date\n",
    "latest_cases = df[df.Date == '2021-04-22']\n",
    "print(latest_cases)"
   ]
  },
  {
   "cell_type": "code",
   "execution_count": 10,
   "metadata": {},
   "outputs": [],
   "source": [
    "# Sorting data wrt number of confirmed cases\n",
    "max_confirmed_cases = latest_cases.sort_values(by='Confirmed', ascending=False)"
   ]
  },
  {
   "cell_type": "code",
   "execution_count": 11,
   "metadata": {},
   "outputs": [
    {
     "data": {
      "text/html": [
       "<div>\n",
       "<style scoped>\n",
       "    .dataframe tbody tr th:only-of-type {\n",
       "        vertical-align: middle;\n",
       "    }\n",
       "\n",
       "    .dataframe tbody tr th {\n",
       "        vertical-align: top;\n",
       "    }\n",
       "\n",
       "    .dataframe thead th {\n",
       "        text-align: right;\n",
       "    }\n",
       "</style>\n",
       "<table border=\"1\" class=\"dataframe\">\n",
       "  <thead>\n",
       "    <tr style=\"text-align: right;\">\n",
       "      <th></th>\n",
       "      <th>Date</th>\n",
       "      <th>Country</th>\n",
       "      <th>Confirmed</th>\n",
       "      <th>Recovered</th>\n",
       "      <th>Deaths</th>\n",
       "    </tr>\n",
       "  </thead>\n",
       "  <tbody>\n",
       "    <tr>\n",
       "      <th>81802</th>\n",
       "      <td>2021-04-22</td>\n",
       "      <td>US</td>\n",
       "      <td>31928507</td>\n",
       "      <td>0</td>\n",
       "      <td>570321</td>\n",
       "    </tr>\n",
       "    <tr>\n",
       "      <th>36559</th>\n",
       "      <td>2021-04-22</td>\n",
       "      <td>India</td>\n",
       "      <td>16263695</td>\n",
       "      <td>13648159</td>\n",
       "      <td>186920</td>\n",
       "    </tr>\n",
       "    <tr>\n",
       "      <th>10967</th>\n",
       "      <td>2021-04-22</td>\n",
       "      <td>Brazil</td>\n",
       "      <td>14167973</td>\n",
       "      <td>12530970</td>\n",
       "      <td>383502</td>\n",
       "    </tr>\n",
       "    <tr>\n",
       "      <th>28790</th>\n",
       "      <td>2021-04-22</td>\n",
       "      <td>France</td>\n",
       "      <td>5469674</td>\n",
       "      <td>334497</td>\n",
       "      <td>102323</td>\n",
       "    </tr>\n",
       "    <tr>\n",
       "      <th>65350</th>\n",
       "      <td>2021-04-22</td>\n",
       "      <td>Russia</td>\n",
       "      <td>4682573</td>\n",
       "      <td>4312186</td>\n",
       "      <td>105328</td>\n",
       "    </tr>\n",
       "    <tr>\n",
       "      <th>...</th>\n",
       "      <td>...</td>\n",
       "      <td>...</td>\n",
       "      <td>...</td>\n",
       "      <td>...</td>\n",
       "      <td>...</td>\n",
       "    </tr>\n",
       "    <tr>\n",
       "      <th>47984</th>\n",
       "      <td>2021-04-22</td>\n",
       "      <td>MS Zaandam</td>\n",
       "      <td>9</td>\n",
       "      <td>7</td>\n",
       "      <td>2</td>\n",
       "    </tr>\n",
       "    <tr>\n",
       "      <th>51183</th>\n",
       "      <td>2021-04-22</td>\n",
       "      <td>Marshall Islands</td>\n",
       "      <td>4</td>\n",
       "      <td>4</td>\n",
       "      <td>0</td>\n",
       "    </tr>\n",
       "    <tr>\n",
       "      <th>85001</th>\n",
       "      <td>2021-04-22</td>\n",
       "      <td>Vanuatu</td>\n",
       "      <td>4</td>\n",
       "      <td>1</td>\n",
       "      <td>1</td>\n",
       "    </tr>\n",
       "    <tr>\n",
       "      <th>67635</th>\n",
       "      <td>2021-04-22</td>\n",
       "      <td>Samoa</td>\n",
       "      <td>3</td>\n",
       "      <td>2</td>\n",
       "      <td>0</td>\n",
       "    </tr>\n",
       "    <tr>\n",
       "      <th>53011</th>\n",
       "      <td>2021-04-22</td>\n",
       "      <td>Micronesia</td>\n",
       "      <td>1</td>\n",
       "      <td>1</td>\n",
       "      <td>0</td>\n",
       "    </tr>\n",
       "  </tbody>\n",
       "</table>\n",
       "<p>192 rows × 5 columns</p>\n",
       "</div>"
      ],
      "text/plain": [
       "            Date           Country  Confirmed  Recovered  Deaths\n",
       "81802 2021-04-22                US   31928507          0  570321\n",
       "36559 2021-04-22             India   16263695   13648159  186920\n",
       "10967 2021-04-22            Brazil   14167973   12530970  383502\n",
       "28790 2021-04-22            France    5469674     334497  102323\n",
       "65350 2021-04-22            Russia    4682573    4312186  105328\n",
       "...          ...               ...        ...        ...     ...\n",
       "47984 2021-04-22        MS Zaandam          9          7       2\n",
       "51183 2021-04-22  Marshall Islands          4          4       0\n",
       "85001 2021-04-22           Vanuatu          4          1       1\n",
       "67635 2021-04-22             Samoa          3          2       0\n",
       "53011 2021-04-22        Micronesia          1          1       0\n",
       "\n",
       "[192 rows x 5 columns]"
      ]
     },
     "execution_count": 11,
     "metadata": {},
     "output_type": "execute_result"
    }
   ],
   "source": [
    "max_confirmed_cases"
   ]
  },
  {
   "cell_type": "code",
   "execution_count": 12,
   "metadata": {},
   "outputs": [
    {
     "data": {
      "text/html": [
       "<div>\n",
       "<style scoped>\n",
       "    .dataframe tbody tr th:only-of-type {\n",
       "        vertical-align: middle;\n",
       "    }\n",
       "\n",
       "    .dataframe tbody tr th {\n",
       "        vertical-align: top;\n",
       "    }\n",
       "\n",
       "    .dataframe thead th {\n",
       "        text-align: right;\n",
       "    }\n",
       "</style>\n",
       "<table border=\"1\" class=\"dataframe\">\n",
       "  <thead>\n",
       "    <tr style=\"text-align: right;\">\n",
       "      <th></th>\n",
       "      <th>Date</th>\n",
       "      <th>Country</th>\n",
       "      <th>Confirmed</th>\n",
       "      <th>Recovered</th>\n",
       "      <th>Deaths</th>\n",
       "    </tr>\n",
       "  </thead>\n",
       "  <tbody>\n",
       "    <tr>\n",
       "      <th>81802</th>\n",
       "      <td>2021-04-22</td>\n",
       "      <td>US</td>\n",
       "      <td>31928507</td>\n",
       "      <td>0</td>\n",
       "      <td>570321</td>\n",
       "    </tr>\n",
       "    <tr>\n",
       "      <th>36559</th>\n",
       "      <td>2021-04-22</td>\n",
       "      <td>India</td>\n",
       "      <td>16263695</td>\n",
       "      <td>13648159</td>\n",
       "      <td>186920</td>\n",
       "    </tr>\n",
       "    <tr>\n",
       "      <th>10967</th>\n",
       "      <td>2021-04-22</td>\n",
       "      <td>Brazil</td>\n",
       "      <td>14167973</td>\n",
       "      <td>12530970</td>\n",
       "      <td>383502</td>\n",
       "    </tr>\n",
       "    <tr>\n",
       "      <th>28790</th>\n",
       "      <td>2021-04-22</td>\n",
       "      <td>France</td>\n",
       "      <td>5469674</td>\n",
       "      <td>334497</td>\n",
       "      <td>102323</td>\n",
       "    </tr>\n",
       "    <tr>\n",
       "      <th>65350</th>\n",
       "      <td>2021-04-22</td>\n",
       "      <td>Russia</td>\n",
       "      <td>4682573</td>\n",
       "      <td>4312186</td>\n",
       "      <td>105328</td>\n",
       "    </tr>\n",
       "  </tbody>\n",
       "</table>\n",
       "</div>"
      ],
      "text/plain": [
       "            Date Country  Confirmed  Recovered  Deaths\n",
       "81802 2021-04-22      US   31928507          0  570321\n",
       "36559 2021-04-22   India   16263695   13648159  186920\n",
       "10967 2021-04-22  Brazil   14167973   12530970  383502\n",
       "28790 2021-04-22  France    5469674     334497  102323\n",
       "65350 2021-04-22  Russia    4682573    4312186  105328"
      ]
     },
     "execution_count": 12,
     "metadata": {},
     "output_type": "execute_result"
    }
   ],
   "source": [
    "# Getting countries with maximum number of confirmed cases\n",
    "top_countries_confirmed_cases = max_confirmed_cases[0:5]\n",
    "top_countries_confirmed_cases"
   ]
  },
  {
   "cell_type": "code",
   "execution_count": 13,
   "metadata": {},
   "outputs": [
    {
     "data": {
      "image/png": "[encoded data removed]",
      "text/plain": [
       "<Figure size 1080x720 with 1 Axes>"
      ]
     },
     "metadata": {
      "needs_background": "light"
     },
     "output_type": "display_data"
    }
   ],
   "source": [
    "# Making bar graph for countries wrt top confirmed cases\n",
    "plt.figure(figsize=(15,10))\n",
    "sb.barplot(x='Country', y='Confirmed', data=top_countries_confirmed_cases, hue='Country')\n",
    "plt.show()"
   ]
  },
  {
   "cell_type": "code",
   "execution_count": 14,
   "metadata": {},
   "outputs": [
    {
     "data": {
      "text/html": [
       "<div>\n",
       "<style scoped>\n",
       "    .dataframe tbody tr th:only-of-type {\n",
       "        vertical-align: middle;\n",
       "    }\n",
       "\n",
       "    .dataframe tbody tr th {\n",
       "        vertical-align: top;\n",
       "    }\n",
       "\n",
       "    .dataframe thead th {\n",
       "        text-align: right;\n",
       "    }\n",
       "</style>\n",
       "<table border=\"1\" class=\"dataframe\">\n",
       "  <thead>\n",
       "    <tr style=\"text-align: right;\">\n",
       "      <th></th>\n",
       "      <th>Date</th>\n",
       "      <th>Country</th>\n",
       "      <th>Confirmed</th>\n",
       "      <th>Recovered</th>\n",
       "      <th>Deaths</th>\n",
       "    </tr>\n",
       "  </thead>\n",
       "  <tbody>\n",
       "    <tr>\n",
       "      <th>81802</th>\n",
       "      <td>2021-04-22</td>\n",
       "      <td>US</td>\n",
       "      <td>31928507</td>\n",
       "      <td>0</td>\n",
       "      <td>570321</td>\n",
       "    </tr>\n",
       "    <tr>\n",
       "      <th>10967</th>\n",
       "      <td>2021-04-22</td>\n",
       "      <td>Brazil</td>\n",
       "      <td>14167973</td>\n",
       "      <td>12530970</td>\n",
       "      <td>383502</td>\n",
       "    </tr>\n",
       "    <tr>\n",
       "      <th>52554</th>\n",
       "      <td>2021-04-22</td>\n",
       "      <td>Mexico</td>\n",
       "      <td>2319596</td>\n",
       "      <td>1841964</td>\n",
       "      <td>214079</td>\n",
       "    </tr>\n",
       "    <tr>\n",
       "      <th>36559</th>\n",
       "      <td>2021-04-22</td>\n",
       "      <td>India</td>\n",
       "      <td>16263695</td>\n",
       "      <td>13648159</td>\n",
       "      <td>186920</td>\n",
       "    </tr>\n",
       "    <tr>\n",
       "      <th>83630</th>\n",
       "      <td>2021-04-22</td>\n",
       "      <td>United Kingdom</td>\n",
       "      <td>4413834</td>\n",
       "      <td>14195</td>\n",
       "      <td>127597</td>\n",
       "    </tr>\n",
       "    <tr>\n",
       "      <th>...</th>\n",
       "      <td>...</td>\n",
       "      <td>...</td>\n",
       "      <td>...</td>\n",
       "      <td>...</td>\n",
       "      <td>...</td>\n",
       "    </tr>\n",
       "    <tr>\n",
       "      <th>43871</th>\n",
       "      <td>2021-04-22</td>\n",
       "      <td>Laos</td>\n",
       "      <td>94</td>\n",
       "      <td>49</td>\n",
       "      <td>0</td>\n",
       "    </tr>\n",
       "    <tr>\n",
       "      <th>67635</th>\n",
       "      <td>2021-04-22</td>\n",
       "      <td>Samoa</td>\n",
       "      <td>3</td>\n",
       "      <td>2</td>\n",
       "      <td>0</td>\n",
       "    </tr>\n",
       "    <tr>\n",
       "      <th>66264</th>\n",
       "      <td>2021-04-22</td>\n",
       "      <td>Saint Kitts and Nevis</td>\n",
       "      <td>44</td>\n",
       "      <td>44</td>\n",
       "      <td>0</td>\n",
       "    </tr>\n",
       "    <tr>\n",
       "      <th>53011</th>\n",
       "      <td>2021-04-22</td>\n",
       "      <td>Micronesia</td>\n",
       "      <td>1</td>\n",
       "      <td>1</td>\n",
       "      <td>0</td>\n",
       "    </tr>\n",
       "    <tr>\n",
       "      <th>34731</th>\n",
       "      <td>2021-04-22</td>\n",
       "      <td>Holy See</td>\n",
       "      <td>27</td>\n",
       "      <td>15</td>\n",
       "      <td>0</td>\n",
       "    </tr>\n",
       "  </tbody>\n",
       "</table>\n",
       "<p>192 rows × 5 columns</p>\n",
       "</div>"
      ],
      "text/plain": [
       "            Date                Country  Confirmed  Recovered  Deaths\n",
       "81802 2021-04-22                     US   31928507          0  570321\n",
       "10967 2021-04-22                 Brazil   14167973   12530970  383502\n",
       "52554 2021-04-22                 Mexico    2319596    1841964  214079\n",
       "36559 2021-04-22                  India   16263695   13648159  186920\n",
       "83630 2021-04-22         United Kingdom    4413834      14195  127597\n",
       "...          ...                    ...        ...        ...     ...\n",
       "43871 2021-04-22                   Laos         94         49       0\n",
       "67635 2021-04-22                  Samoa          3          2       0\n",
       "66264 2021-04-22  Saint Kitts and Nevis         44         44       0\n",
       "53011 2021-04-22             Micronesia          1          1       0\n",
       "34731 2021-04-22               Holy See         27         15       0\n",
       "\n",
       "[192 rows x 5 columns]"
      ]
     },
     "execution_count": 14,
     "metadata": {},
     "output_type": "execute_result"
    }
   ],
   "source": [
    "# Sorting data wrt number of deaths\n",
    "max_deaths = latest_cases.sort_values(by='Deaths', ascending=False)\n",
    "max_deaths"
   ]
  },
  {
   "cell_type": "code",
   "execution_count": 15,
   "metadata": {},
   "outputs": [
    {
     "data": {
      "text/html": [
       "<div>\n",
       "<style scoped>\n",
       "    .dataframe tbody tr th:only-of-type {\n",
       "        vertical-align: middle;\n",
       "    }\n",
       "\n",
       "    .dataframe tbody tr th {\n",
       "        vertical-align: top;\n",
       "    }\n",
       "\n",
       "    .dataframe thead th {\n",
       "        text-align: right;\n",
       "    }\n",
       "</style>\n",
       "<table border=\"1\" class=\"dataframe\">\n",
       "  <thead>\n",
       "    <tr style=\"text-align: right;\">\n",
       "      <th></th>\n",
       "      <th>Date</th>\n",
       "      <th>Country</th>\n",
       "      <th>Confirmed</th>\n",
       "      <th>Recovered</th>\n",
       "      <th>Deaths</th>\n",
       "    </tr>\n",
       "  </thead>\n",
       "  <tbody>\n",
       "    <tr>\n",
       "      <th>81802</th>\n",
       "      <td>2021-04-22</td>\n",
       "      <td>US</td>\n",
       "      <td>31928507</td>\n",
       "      <td>0</td>\n",
       "      <td>570321</td>\n",
       "    </tr>\n",
       "    <tr>\n",
       "      <th>10967</th>\n",
       "      <td>2021-04-22</td>\n",
       "      <td>Brazil</td>\n",
       "      <td>14167973</td>\n",
       "      <td>12530970</td>\n",
       "      <td>383502</td>\n",
       "    </tr>\n",
       "    <tr>\n",
       "      <th>52554</th>\n",
       "      <td>2021-04-22</td>\n",
       "      <td>Mexico</td>\n",
       "      <td>2319596</td>\n",
       "      <td>1841964</td>\n",
       "      <td>214079</td>\n",
       "    </tr>\n",
       "    <tr>\n",
       "      <th>36559</th>\n",
       "      <td>2021-04-22</td>\n",
       "      <td>India</td>\n",
       "      <td>16263695</td>\n",
       "      <td>13648159</td>\n",
       "      <td>186920</td>\n",
       "    </tr>\n",
       "    <tr>\n",
       "      <th>83630</th>\n",
       "      <td>2021-04-22</td>\n",
       "      <td>United Kingdom</td>\n",
       "      <td>4413834</td>\n",
       "      <td>14195</td>\n",
       "      <td>127597</td>\n",
       "    </tr>\n",
       "  </tbody>\n",
       "</table>\n",
       "</div>"
      ],
      "text/plain": [
       "            Date         Country  Confirmed  Recovered  Deaths\n",
       "81802 2021-04-22              US   31928507          0  570321\n",
       "10967 2021-04-22          Brazil   14167973   12530970  383502\n",
       "52554 2021-04-22          Mexico    2319596    1841964  214079\n",
       "36559 2021-04-22           India   16263695   13648159  186920\n",
       "83630 2021-04-22  United Kingdom    4413834      14195  127597"
      ]
     },
     "execution_count": 15,
     "metadata": {},
     "output_type": "execute_result"
    }
   ],
   "source": [
    "# Getting countries with maximum number of deaths\n",
    "top_countries_deaths = max_deaths[0:5]\n",
    "top_countries_deaths"
   ]
  },
  {
   "cell_type": "code",
   "execution_count": 16,
   "metadata": {},
   "outputs": [
    {
     "data": {
      "image/png": "[encoded data removed]",
      "text/plain": [
       "<Figure size 1080x720 with 1 Axes>"
      ]
     },
     "metadata": {
      "needs_background": "light"
     },
     "output_type": "display_data"
    }
   ],
   "source": [
    "# Making bar graph for countries wrt max deaths\n",
    "plt.figure(figsize=(15,10))\n",
    "sb.barplot(x='Country', y='Deaths', data=top_countries_deaths, hue='Country')\n",
    "plt.show()"
   ]
  },
  {
   "cell_type": "code",
   "execution_count": 17,
   "metadata": {},
   "outputs": [
    {
     "data": {
      "text/html": [
       "<div>\n",
       "<style scoped>\n",
       "    .dataframe tbody tr th:only-of-type {\n",
       "        vertical-align: middle;\n",
       "    }\n",
       "\n",
       "    .dataframe tbody tr th {\n",
       "        vertical-align: top;\n",
       "    }\n",
       "\n",
       "    .dataframe thead th {\n",
       "        text-align: right;\n",
       "    }\n",
       "</style>\n",
       "<table border=\"1\" class=\"dataframe\">\n",
       "  <thead>\n",
       "    <tr style=\"text-align: right;\">\n",
       "      <th></th>\n",
       "      <th>Date</th>\n",
       "      <th>Country</th>\n",
       "      <th>Confirmed</th>\n",
       "      <th>Recovered</th>\n",
       "      <th>Deaths</th>\n",
       "    </tr>\n",
       "  </thead>\n",
       "  <tbody>\n",
       "    <tr>\n",
       "      <th>36559</th>\n",
       "      <td>2021-04-22</td>\n",
       "      <td>India</td>\n",
       "      <td>16263695</td>\n",
       "      <td>13648159</td>\n",
       "      <td>186920</td>\n",
       "    </tr>\n",
       "    <tr>\n",
       "      <th>10967</th>\n",
       "      <td>2021-04-22</td>\n",
       "      <td>Brazil</td>\n",
       "      <td>14167973</td>\n",
       "      <td>12530970</td>\n",
       "      <td>383502</td>\n",
       "    </tr>\n",
       "    <tr>\n",
       "      <th>65350</th>\n",
       "      <td>2021-04-22</td>\n",
       "      <td>Russia</td>\n",
       "      <td>4682573</td>\n",
       "      <td>4312186</td>\n",
       "      <td>105328</td>\n",
       "    </tr>\n",
       "    <tr>\n",
       "      <th>81345</th>\n",
       "      <td>2021-04-22</td>\n",
       "      <td>Turkey</td>\n",
       "      <td>4501382</td>\n",
       "      <td>3909935</td>\n",
       "      <td>37329</td>\n",
       "    </tr>\n",
       "    <tr>\n",
       "      <th>39301</th>\n",
       "      <td>2021-04-22</td>\n",
       "      <td>Italy</td>\n",
       "      <td>3920945</td>\n",
       "      <td>3330392</td>\n",
       "      <td>118357</td>\n",
       "    </tr>\n",
       "    <tr>\n",
       "      <th>...</th>\n",
       "      <td>...</td>\n",
       "      <td>...</td>\n",
       "      <td>...</td>\n",
       "      <td>...</td>\n",
       "      <td>...</td>\n",
       "    </tr>\n",
       "    <tr>\n",
       "      <th>53011</th>\n",
       "      <td>2021-04-22</td>\n",
       "      <td>Micronesia</td>\n",
       "      <td>1</td>\n",
       "      <td>1</td>\n",
       "      <td>0</td>\n",
       "    </tr>\n",
       "    <tr>\n",
       "      <th>7768</th>\n",
       "      <td>2021-04-22</td>\n",
       "      <td>Belgium</td>\n",
       "      <td>964526</td>\n",
       "      <td>0</td>\n",
       "      <td>23909</td>\n",
       "    </tr>\n",
       "    <tr>\n",
       "      <th>81802</th>\n",
       "      <td>2021-04-22</td>\n",
       "      <td>US</td>\n",
       "      <td>31928507</td>\n",
       "      <td>0</td>\n",
       "      <td>570321</td>\n",
       "    </tr>\n",
       "    <tr>\n",
       "      <th>76318</th>\n",
       "      <td>2021-04-22</td>\n",
       "      <td>Sweden</td>\n",
       "      <td>932076</td>\n",
       "      <td>0</td>\n",
       "      <td>13882</td>\n",
       "    </tr>\n",
       "    <tr>\n",
       "      <th>69920</th>\n",
       "      <td>2021-04-22</td>\n",
       "      <td>Serbia</td>\n",
       "      <td>673520</td>\n",
       "      <td>0</td>\n",
       "      <td>6130</td>\n",
       "    </tr>\n",
       "  </tbody>\n",
       "</table>\n",
       "<p>192 rows × 5 columns</p>\n",
       "</div>"
      ],
      "text/plain": [
       "            Date     Country  Confirmed  Recovered  Deaths\n",
       "36559 2021-04-22       India   16263695   13648159  186920\n",
       "10967 2021-04-22      Brazil   14167973   12530970  383502\n",
       "65350 2021-04-22      Russia    4682573    4312186  105328\n",
       "81345 2021-04-22      Turkey    4501382    3909935   37329\n",
       "39301 2021-04-22       Italy    3920945    3330392  118357\n",
       "...          ...         ...        ...        ...     ...\n",
       "53011 2021-04-22  Micronesia          1          1       0\n",
       "7768  2021-04-22     Belgium     964526          0   23909\n",
       "81802 2021-04-22          US   31928507          0  570321\n",
       "76318 2021-04-22      Sweden     932076          0   13882\n",
       "69920 2021-04-22      Serbia     673520          0    6130\n",
       "\n",
       "[192 rows x 5 columns]"
      ]
     },
     "execution_count": 17,
     "metadata": {},
     "output_type": "execute_result"
    }
   ],
   "source": [
    "# Sorting data wrt number of recovered cases\n",
    "max_recovered_cases = latest_cases.sort_values(by='Recovered', ascending=False)\n",
    "max_recovered_cases"
   ]
  },
  {
   "cell_type": "code",
   "execution_count": 18,
   "metadata": {},
   "outputs": [
    {
     "data": {
      "text/html": [
       "<div>\n",
       "<style scoped>\n",
       "    .dataframe tbody tr th:only-of-type {\n",
       "        vertical-align: middle;\n",
       "    }\n",
       "\n",
       "    .dataframe tbody tr th {\n",
       "        vertical-align: top;\n",
       "    }\n",
       "\n",
       "    .dataframe thead th {\n",
       "        text-align: right;\n",
       "    }\n",
       "</style>\n",
       "<table border=\"1\" class=\"dataframe\">\n",
       "  <thead>\n",
       "    <tr style=\"text-align: right;\">\n",
       "      <th></th>\n",
       "      <th>Date</th>\n",
       "      <th>Country</th>\n",
       "      <th>Confirmed</th>\n",
       "      <th>Recovered</th>\n",
       "      <th>Deaths</th>\n",
       "    </tr>\n",
       "  </thead>\n",
       "  <tbody>\n",
       "    <tr>\n",
       "      <th>36559</th>\n",
       "      <td>2021-04-22</td>\n",
       "      <td>India</td>\n",
       "      <td>16263695</td>\n",
       "      <td>13648159</td>\n",
       "      <td>186920</td>\n",
       "    </tr>\n",
       "    <tr>\n",
       "      <th>10967</th>\n",
       "      <td>2021-04-22</td>\n",
       "      <td>Brazil</td>\n",
       "      <td>14167973</td>\n",
       "      <td>12530970</td>\n",
       "      <td>383502</td>\n",
       "    </tr>\n",
       "    <tr>\n",
       "      <th>65350</th>\n",
       "      <td>2021-04-22</td>\n",
       "      <td>Russia</td>\n",
       "      <td>4682573</td>\n",
       "      <td>4312186</td>\n",
       "      <td>105328</td>\n",
       "    </tr>\n",
       "    <tr>\n",
       "      <th>81345</th>\n",
       "      <td>2021-04-22</td>\n",
       "      <td>Turkey</td>\n",
       "      <td>4501382</td>\n",
       "      <td>3909935</td>\n",
       "      <td>37329</td>\n",
       "    </tr>\n",
       "    <tr>\n",
       "      <th>39301</th>\n",
       "      <td>2021-04-22</td>\n",
       "      <td>Italy</td>\n",
       "      <td>3920945</td>\n",
       "      <td>3330392</td>\n",
       "      <td>118357</td>\n",
       "    </tr>\n",
       "  </tbody>\n",
       "</table>\n",
       "</div>"
      ],
      "text/plain": [
       "            Date Country  Confirmed  Recovered  Deaths\n",
       "36559 2021-04-22   India   16263695   13648159  186920\n",
       "10967 2021-04-22  Brazil   14167973   12530970  383502\n",
       "65350 2021-04-22  Russia    4682573    4312186  105328\n",
       "81345 2021-04-22  Turkey    4501382    3909935   37329\n",
       "39301 2021-04-22   Italy    3920945    3330392  118357"
      ]
     },
     "execution_count": 18,
     "metadata": {},
     "output_type": "execute_result"
    }
   ],
   "source": [
    "# Getting countries with maximum number of recovered cases\n",
    "top_countries_recovered_cases = max_recovered_cases[0:5]\n",
    "top_countries_recovered_cases"
   ]
  },
  {
   "cell_type": "code",
   "execution_count": 19,
   "metadata": {},
   "outputs": [
    {
     "data": {
      "image/png": "[encoded data removed]",
      "text/plain": [
       "<Figure size 1080x720 with 1 Axes>"
      ]
     },
     "metadata": {
      "needs_background": "light"
     },
     "output_type": "display_data"
    }
   ],
   "source": [
    "# Making bar graph for countries wrt max recovered cases\n",
    "plt.figure(figsize=(15,10))\n",
    "sb.barplot(x='Country', y='Recovered', data=top_countries_recovered_cases, hue='Country')\n",
    "plt.show()"
   ]
  },
  {
   "cell_type": "code",
   "execution_count": 20,
   "metadata": {},
   "outputs": [
    {
     "name": "stdout",
     "output_type": "stream",
     "text": [
      "            Date Country  Confirmed  Recovered  Deaths\n",
      "81346 2020-01-22      US          1          0       0\n",
      "81347 2020-01-23      US          1          0       0\n",
      "81348 2020-01-24      US          2          0       0\n",
      "81349 2020-01-25      US          2          0       0\n",
      "81350 2020-01-26      US          5          0       0\n",
      "...          ...     ...        ...        ...     ...\n",
      "81798 2021-04-18      US   31670031          0  567259\n",
      "81799 2021-04-19      US   31737964          0  567736\n",
      "81800 2021-04-20      US   31799237          0  568560\n",
      "81801 2021-04-21      US   31862094          0  569402\n",
      "81802 2021-04-22      US   31928507          0  570321\n",
      "\n",
      "[457 rows x 5 columns]\n"
     ]
    }
   ],
   "source": [
    "# US\n",
    "US = df[df.Country == \"US\"]\n",
    "print(US)"
   ]
  },
  {
   "cell_type": "code",
   "execution_count": 21,
   "metadata": {},
   "outputs": [
    {
     "data": {
      "image/png": "[encoded data removed]",
      "text/plain": [
       "<Figure size 1080x720 with 1 Axes>"
      ]
     },
     "metadata": {
      "needs_background": "light"
     },
     "output_type": "display_data"
    }
   ],
   "source": [
    "# Visualizing confirmed cases in US\n",
    "plt.figure(figsize=(15,10))\n",
    "sb.lineplot(x='Date', y='Confirmed', data=US, color='g')\n",
    "plt.show()"
   ]
  },
  {
   "cell_type": "code",
   "execution_count": 22,
   "metadata": {},
   "outputs": [
    {
     "data": {
      "image/png": "[encoded data removed]",
      "text/plain": [
       "<Figure size 1080x720 with 1 Axes>"
      ]
     },
     "metadata": {
      "needs_background": "light"
     },
     "output_type": "display_data"
    }
   ],
   "source": [
    "# Visualizing death cases in US\n",
    "plt.figure(figsize=(15,10))\n",
    "sb.lineplot(x='Date', y='Deaths', data=US, color='r')\n",
    "plt.show()"
   ]
  },
  {
   "cell_type": "code",
   "execution_count": 23,
   "metadata": {},
   "outputs": [
    {
     "data": {
      "image/png": "[encoded data removed]",
      "text/plain": [
       "<Figure size 1080x720 with 1 Axes>"
      ]
     },
     "metadata": {
      "needs_background": "light"
     },
     "output_type": "display_data"
    }
   ],
   "source": [
    "# Visualizing recovered cases in US\n",
    "plt.figure(figsize=(15,10))\n",
    "sb.lineplot(x='Date', y='Recovered', data=US, color='b')\n",
    "plt.show()"
   ]
  },
  {
   "cell_type": "code",
   "execution_count": 24,
   "metadata": {},
   "outputs": [
    {
     "name": "stdout",
     "output_type": "stream",
     "text": [
      "            Date Country  Confirmed  Recovered  Deaths\n",
      "36103 2020-01-22   India          0          0       0\n",
      "36104 2020-01-23   India          0          0       0\n",
      "36105 2020-01-24   India          0          0       0\n",
      "36106 2020-01-25   India          0          0       0\n",
      "36107 2020-01-26   India          0          0       0\n",
      "...          ...     ...        ...        ...     ...\n",
      "36555 2021-04-18   India   15061805   12953817  178769\n",
      "36556 2021-04-19   India   15320972   13108565  180530\n",
      "36557 2021-04-20   India   15616130   13276039  182553\n",
      "36558 2021-04-21   India   15930774   13454880  184657\n",
      "36559 2021-04-22   India   16263695   13648159  186920\n",
      "\n",
      "[457 rows x 5 columns]\n"
     ]
    }
   ],
   "source": [
    "# India\n",
    "India = df[df.Country == \"India\"]\n",
    "print(India)"
   ]
  },
  {
   "cell_type": "code",
   "execution_count": 25,
   "metadata": {},
   "outputs": [
    {
     "data": {
      "image/png": "[encoded data removed]",
      "text/plain": [
       "<Figure size 1080x720 with 1 Axes>"
      ]
     },
     "metadata": {
      "needs_background": "light"
     },
     "output_type": "display_data"
    }
   ],
   "source": [
    "# Visualizing confirmed cases in India\n",
    "plt.figure(figsize=(15,10))\n",
    "sb.lineplot(x='Date', y='Confirmed', data=India, color='g')\n",
    "plt.show()"
   ]
  },
  {
   "cell_type": "code",
   "execution_count": 26,
   "metadata": {},
   "outputs": [
    {
     "data": {
      "image/png": "[encoded data removed]",
      "text/plain": [
       "<Figure size 1080x720 with 1 Axes>"
      ]
     },
     "metadata": {
      "needs_background": "light"
     },
     "output_type": "display_data"
    }
   ],
   "source": [
    "# Visualizing death cases in India\n",
    "plt.figure(figsize=(15,10))\n",
    "sb.lineplot(x='Date', y='Deaths', data=India, color='r')\n",
    "plt.show()"
   ]
  },
  {
   "cell_type": "code",
   "execution_count": 27,
   "metadata": {},
   "outputs": [
    {
     "data": {
      "image/png": "[encoded data removed]",
      "text/plain": [
       "<Figure size 1080x720 with 1 Axes>"
      ]
     },
     "metadata": {
      "needs_background": "light"
     },
     "output_type": "display_data"
    }
   ],
   "source": [
    "# Visualizing recovered cases in India\n",
    "plt.figure(figsize=(15,10))\n",
    "sb.lineplot(x='Date', y='Recovered', data=India, color='b')\n",
    "plt.show()"
   ]
  },
  {
   "cell_type": "code",
   "execution_count": 28,
   "metadata": {},
   "outputs": [
    {
     "name": "stderr",
     "output_type": "stream",
     "text": [
      "<ipython-input-28-02b32d391be9>:1: SettingWithCopyWarning: \n",
      "A value is trying to be set on a copy of a slice from a DataFrame.\n",
      "Try using .loc[row_indexer,col_indexer] = value instead\n",
      "\n",
      "See the caveats in the documentation: https://pandas.pydata.org/pandas-docs/stable/user_guide/indexing.html#returning-a-view-versus-a-copy\n",
      "  India['Date'] = India['Date'].map(dt.datetime.toordinal)\n"
     ]
    },
    {
     "data": {
      "text/html": [
       "<div>\n",
       "<style scoped>\n",
       "    .dataframe tbody tr th:only-of-type {\n",
       "        vertical-align: middle;\n",
       "    }\n",
       "\n",
       "    .dataframe tbody tr th {\n",
       "        vertical-align: top;\n",
       "    }\n",
       "\n",
       "    .dataframe thead th {\n",
       "        text-align: right;\n",
       "    }\n",
       "</style>\n",
       "<table border=\"1\" class=\"dataframe\">\n",
       "  <thead>\n",
       "    <tr style=\"text-align: right;\">\n",
       "      <th></th>\n",
       "      <th>Date</th>\n",
       "      <th>Country</th>\n",
       "      <th>Confirmed</th>\n",
       "      <th>Recovered</th>\n",
       "      <th>Deaths</th>\n",
       "    </tr>\n",
       "  </thead>\n",
       "  <tbody>\n",
       "    <tr>\n",
       "      <th>36103</th>\n",
       "      <td>737446</td>\n",
       "      <td>India</td>\n",
       "      <td>0</td>\n",
       "      <td>0</td>\n",
       "      <td>0</td>\n",
       "    </tr>\n",
       "    <tr>\n",
       "      <th>36104</th>\n",
       "      <td>737447</td>\n",
       "      <td>India</td>\n",
       "      <td>0</td>\n",
       "      <td>0</td>\n",
       "      <td>0</td>\n",
       "    </tr>\n",
       "    <tr>\n",
       "      <th>36105</th>\n",
       "      <td>737448</td>\n",
       "      <td>India</td>\n",
       "      <td>0</td>\n",
       "      <td>0</td>\n",
       "      <td>0</td>\n",
       "    </tr>\n",
       "    <tr>\n",
       "      <th>36106</th>\n",
       "      <td>737449</td>\n",
       "      <td>India</td>\n",
       "      <td>0</td>\n",
       "      <td>0</td>\n",
       "      <td>0</td>\n",
       "    </tr>\n",
       "    <tr>\n",
       "      <th>36107</th>\n",
       "      <td>737450</td>\n",
       "      <td>India</td>\n",
       "      <td>0</td>\n",
       "      <td>0</td>\n",
       "      <td>0</td>\n",
       "    </tr>\n",
       "  </tbody>\n",
       "</table>\n",
       "</div>"
      ],
      "text/plain": [
       "         Date Country  Confirmed  Recovered  Deaths\n",
       "36103  737446   India          0          0       0\n",
       "36104  737447   India          0          0       0\n",
       "36105  737448   India          0          0       0\n",
       "36106  737449   India          0          0       0\n",
       "36107  737450   India          0          0       0"
      ]
     },
     "execution_count": 28,
     "metadata": {},
     "output_type": "execute_result"
    }
   ],
   "source": [
    "India['Date'] = India['Date'].map(dt.datetime.toordinal)\n",
    "India.head()"
   ]
  },
  {
   "cell_type": "code",
   "execution_count": 32,
   "metadata": {},
   "outputs": [],
   "source": [
    "# Specify input and output attributes\n",
    "x = India['Date']\n",
    "y = India['Confirmed']"
   ]
  },
  {
   "cell_type": "code",
   "execution_count": 33,
   "metadata": {},
   "outputs": [],
   "source": [
    "# Split the data\n",
    "x_train, x_test, y_train, y_test = train_test_split(x, y, test_size=0.2, random_state=1)\n",
    "#print(x.shape, x_train.shape, x_test.shape)"
   ]
  },
  {
   "cell_type": "code",
   "execution_count": 34,
   "metadata": {},
   "outputs": [],
   "source": [
    "#Training the model\n",
    "from sklearn.linear_model import LinearRegression\n",
    "model = LinearRegression()"
   ]
  },
  {
   "cell_type": "code",
   "execution_count": 35,
   "metadata": {},
   "outputs": [
    {
     "data": {
      "text/plain": [
       "LinearRegression()"
      ]
     },
     "execution_count": 35,
     "metadata": {},
     "output_type": "execute_result"
    }
   ],
   "source": [
    "model.fit(np.array(x_train).reshape(-1,1),np.array(y_train).reshape(-1,1))"
   ]
  },
  {
   "cell_type": "code",
   "execution_count": 36,
   "metadata": {},
   "outputs": [
    {
     "data": {
      "text/plain": [
       "(457, 5)"
      ]
     },
     "execution_count": 36,
     "metadata": {},
     "output_type": "execute_result"
    }
   ],
   "source": [
    "India.shape"
   ]
  },
  {
   "cell_type": "code",
   "execution_count": 39,
   "metadata": {},
   "outputs": [],
   "source": [
    "y_predict = model.predict(np.array(x_test).reshape(-1,1))"
   ]
  },
  {
   "cell_type": "code",
   "execution_count": 40,
   "metadata": {},
   "outputs": [
    {
     "data": {
      "text/plain": [
       "42491521636596.05"
      ]
     },
     "execution_count": 40,
     "metadata": {},
     "output_type": "execute_result"
    }
   ],
   "source": [
    "mean_squared_error(x_test, y_predict)"
   ]
  },
  {
   "cell_type": "code",
   "execution_count": 41,
   "metadata": {},
   "outputs": [
    {
     "name": "stdout",
     "output_type": "stream",
     "text": [
      "[[1487467.91785431]]\n"
     ]
    }
   ],
   "source": [
    "print(model.predict([[737570]]))"
   ]
  },
  {
   "cell_type": "code",
   "execution_count": null,
   "metadata": {},
   "outputs": [],
   "source": []
  }
 ],
 "metadata": {
  "kernelspec": {
   "display_name": "Python 3",
   "language": "python",
   "name": "python3"
  },
  "language_info": {
   "codemirror_mode": {
    "name": "ipython",
    "version": 3
   },
   "file_extension": ".py",
   "mimetype": "text/x-python",
   "name": "python",
   "nbconvert_exporter": "python",
   "pygments_lexer": "ipython3",
   "version": "3.8.5"
  }
 },
 "nbformat": 4,
 "nbformat_minor": 4
}
